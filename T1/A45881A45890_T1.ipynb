{
 "cells": [
  {
   "cell_type": "code",
   "execution_count": null,
   "metadata": {},
   "outputs": [],
   "source": [
    "import numpy as np\n",
    "import numpy.random as rnd\n",
    "import matplotlib.pyplot as plt\n",
    "import itertools\n",
    "from sklearn.metrics import confusion_matrix\n",
    "from sklearn.metrics import classification_report\n",
    "from sklearn.metrics import roc_curve\n",
    "\n",
    "\n",
    "def plot(image):\n",
    "    plt.figure()\n",
    "    plt.imshow(image.reshape((32, 32))\n",
    "               if image.shape[0] != 32 else image, cmap=\"gray\")\n",
    "    plt.show()\n",
    "\n",
    "\n",
    "def plot_confusion_matrix(\n",
    "    cm, classes, normalize=False, title=\"Confusion matrix\", cmap=plt.cm.Blues\n",
    "):\n",
    "    \"\"\"\n",
    "    This function prints and plots the confusion matrix.\n",
    "    Normalization can be applied by setting `normalize=True`.\n",
    "    \"\"\"\n",
    "    if normalize:\n",
    "        cm = cm.astype(\"float\") / cm.sum(axis=1)[:, np.newaxis]\n",
    "        print(\"Normalized confusion matrix\")\n",
    "    else:\n",
    "        print(\"Confusion matrix, without normalization\")\n",
    "\n",
    "    fig = plt.figure(figsize=(6.5, 6.5))\n",
    "    plt.imshow(cm, interpolation=\"none\", cmap=cmap)\n",
    "    plt.title(title)\n",
    "    plt.colorbar(fraction=0.046, pad=0.04)\n",
    "    tick_marks = np.arange(len(classes))\n",
    "    plt.xticks(tick_marks, classes, rotation=45, ha=\"right\")\n",
    "    plt.yticks(tick_marks, classes)\n",
    "\n",
    "    fmt = \".2f\" if normalize else \"d\"\n",
    "    thresh = cm.max() / 2.0\n",
    "    for i, j in itertools.product(range(cm.shape[0]), range(cm.shape[1])):\n",
    "        plt.text(\n",
    "            j,\n",
    "            i,\n",
    "            format(cm[i, j], fmt),\n",
    "            horizontalalignment=\"center\",\n",
    "            color=\"white\" if cm[i, j] > thresh else \"black\",\n",
    "        )\n",
    "\n",
    "    plt.tight_layout()\n",
    "    plt.ylabel(\"True label\")\n",
    "    plt.xlabel(\"Predicted label\")\n",
    "    # return fig\n"
   ]
  },
  {
   "cell_type": "markdown",
   "metadata": {},
   "source": [
    "# Get data"
   ]
  },
  {
   "cell_type": "code",
   "execution_count": null,
   "metadata": {},
   "outputs": [],
   "source": [
    "import keras.datasets.cifar10 as cifar10\n",
    "\n",
    "(Xtrain, ytrain), (Xtest, ytest) = cifar10.load_data()\n",
    "\n",
    "# Transform data into array from 1-col matrix\n",
    "ytrain = ytrain.squeeze()\n",
    "ytest = ytest.squeeze()\n",
    "\n",
    "print(Xtrain.shape, ytrain.shape)\n",
    "print(Xtest.shape, ytest.shape)\n"
   ]
  },
  {
   "cell_type": "markdown",
   "metadata": {},
   "source": [
    "# Randomize train data and sort test data"
   ]
  },
  {
   "cell_type": "code",
   "execution_count": null,
   "metadata": {},
   "outputs": [],
   "source": [
    "idx = rnd.permutation(Xtrain.shape[0])\n",
    "Xtrain = Xtrain[idx]\n",
    "ytrain = ytrain[idx]\n",
    "\n",
    "idx = np.argsort(ytest)\n",
    "Xtest = Xtest[idx]\n",
    "ytest = ytest[idx]\n"
   ]
  },
  {
   "cell_type": "markdown",
   "metadata": {},
   "source": [
    "# Convert images to grayscale\n",
    "We're converting the images to grayscale to improve the performance of the classification. We're expecting that the performance is worse than with colored images because there are some images that would be easier to classify according to color. For example, we would expect the model to identify the blue around the ship or the plane to better distiguish them from the others"
   ]
  },
  {
   "cell_type": "code",
   "execution_count": null,
   "metadata": {},
   "outputs": [],
   "source": [
    "from skimage import color\n",
    "\n",
    "XtrainG = np.zeros((Xtrain.shape[0], 32, 32))\n",
    "for i in range(Xtrain.shape[0]):\n",
    "    XtrainG[i] = color.rgb2gray(Xtrain[i])\n",
    "\n",
    "XtestG = np.zeros((Xtest.shape[0], 32, 32))\n",
    "for i in range(Xtest.shape[0]):\n",
    "    XtestG[i] = color.rgb2gray(Xtest[i])\n"
   ]
  },
  {
   "cell_type": "markdown",
   "metadata": {},
   "source": [
    "# Convert images to vectors"
   ]
  },
  {
   "cell_type": "code",
   "execution_count": null,
   "metadata": {},
   "outputs": [],
   "source": [
    "XtrainG = XtrainG.reshape((XtrainG.shape[0], XtrainG.shape[1] ** 2)) * 1.0\n",
    "XtestG = XtestG.reshape((XtestG.shape[0], XtestG.shape[1] ** 2)) * 1.0\n",
    "\n",
    "print(XtrainG.shape, ytrain.shape)\n",
    "print(XtestG.shape, ytest.shape)\n"
   ]
  },
  {
   "cell_type": "markdown",
   "metadata": {},
   "source": [
    "# Normalization"
   ]
  },
  {
   "cell_type": "code",
   "execution_count": null,
   "metadata": {},
   "outputs": [],
   "source": [
    "from sklearn.preprocessing import StandardScaler\n",
    "\n",
    "ss = StandardScaler().fit(XtrainG)\n",
    "XtrainGS = ss.transform(XtrainG)\n",
    "XtestGS = ss.transform(XtestG)\n"
   ]
  },
  {
   "cell_type": "markdown",
   "metadata": {},
   "source": [
    "# Binarize for ship (index 8)"
   ]
  },
  {
   "cell_type": "code",
   "execution_count": null,
   "metadata": {},
   "outputs": [],
   "source": [
    "ytrainB = (ytrain == 8) * 1\n",
    "ytestB = (ytest == 8) * 1\n"
   ]
  },
  {
   "cell_type": "markdown",
   "metadata": {},
   "source": [
    "#### Change names"
   ]
  },
  {
   "cell_type": "code",
   "execution_count": null,
   "metadata": {},
   "outputs": [],
   "source": [
    "X1 = XtrainG\n",
    "X1s = XtrainGS\n",
    "y1 = ytrain\n",
    "y1b = ytrainB\n",
    "X2 = XtestG\n",
    "X2s = XtestGS\n",
    "y2 = ytest\n",
    "y2b = ytestB\n"
   ]
  },
  {
   "cell_type": "markdown",
   "metadata": {},
   "source": [
    "# Binary classification"
   ]
  },
  {
   "cell_type": "markdown",
   "metadata": {},
   "source": [
    "## SGDClassifier"
   ]
  },
  {
   "cell_type": "code",
   "execution_count": null,
   "metadata": {},
   "outputs": [],
   "source": [
    "from sklearn.linear_model import SGDClassifier\n"
   ]
  },
  {
   "cell_type": "markdown",
   "metadata": {},
   "source": [
    "### Not normalized data"
   ]
  },
  {
   "cell_type": "code",
   "execution_count": null,
   "metadata": {},
   "outputs": [],
   "source": [
    "sgdb = SGDClassifier().fit(X1, y1b)\n",
    "y2e = sgdb.predict(X2)\n",
    "\n",
    "print('Score:', sgdb.score(X2, y2b))\n",
    "print(\"Number of errors:\", np.sum(y2b != y2e))\n",
    "print(classification_report(y2b, y2e))\n",
    "\n",
    "plt.figure()\n",
    "plt.plot(y2e, \".\", alpha=0.5)\n",
    "plt.plot(y2b)\n",
    "plt.show()\n",
    "\n",
    "print('Prediction')\n",
    "cm = confusion_matrix(y2b, y2e)\n",
    "print(cm)\n"
   ]
  },
  {
   "cell_type": "markdown",
   "metadata": {},
   "source": [
    "#### Decision function"
   ]
  },
  {
   "cell_type": "code",
   "execution_count": null,
   "metadata": {},
   "outputs": [],
   "source": [
    "th = -1.5\n",
    "y2d = sgdb.decision_function(X2)\n",
    "\n",
    "plt.figure()\n",
    "plt.plot(y2d)\n",
    "plt.axhline(th, color='r')\n",
    "plt.title(\"Decision function\")\n",
    "plt.show()\n",
    "\n",
    "print(f'Decision function with threshold = {th}')\n",
    "cm = confusion_matrix(y2b, (y2d >= th)*1)\n",
    "print(cm)\n",
    "\n",
    "fp, tp, t = roc_curve(y2b, y2d)\n",
    "plt.figure()\n",
    "plt.plot(fp, tp)\n",
    "plt.plot(cm[0][1] / (cm[0][0] + cm[0][1]),\n",
    "         cm[1][1] / (cm[1][0] + cm[1][1]), 'ob')\n",
    "plt.title('ROC curve')\n",
    "plt.xlabel(\"FP-rate\")\n",
    "plt.ylabel(\"TP-rate\")\n",
    "plt.grid(True)\n",
    "plt.show()\n"
   ]
  },
  {
   "cell_type": "markdown",
   "metadata": {},
   "source": [
    "### Normalized data"
   ]
  },
  {
   "cell_type": "code",
   "execution_count": null,
   "metadata": {},
   "outputs": [],
   "source": [
    "sgdbn = SGDClassifier().fit(X1s, y1b)\n",
    "y2e = sgdbn.predict(X2s)\n",
    "\n",
    "print('Score:', sgdbn.score(X2s, y2b))\n",
    "print(\"Number of errors:\", np.sum(y2b != y2e))\n",
    "print(classification_report(y2b, y2e))\n",
    "\n",
    "plt.figure()\n",
    "plt.plot(y2e, \".\", alpha=0.5)\n",
    "plt.plot(y2b)\n",
    "plt.show()\n",
    "\n",
    "print('Prediction')\n",
    "cm = confusion_matrix(y2b, y2e)\n",
    "print(cm)\n"
   ]
  },
  {
   "cell_type": "markdown",
   "metadata": {},
   "source": [
    "#### Decision function"
   ]
  },
  {
   "cell_type": "code",
   "execution_count": null,
   "metadata": {},
   "outputs": [],
   "source": [
    "th = -1.5\n",
    "y2d = sgdbn.decision_function(X2)\n",
    "\n",
    "plt.figure()\n",
    "plt.plot(y2d)\n",
    "plt.axhline(th, color='r')\n",
    "plt.title(\"Decision function\")\n",
    "plt.show()\n",
    "\n",
    "print(f'Decision function with threshold = {th}')\n",
    "cm = confusion_matrix(y2b, (y2d >= th)*1)\n",
    "print(cm)\n",
    "\n",
    "fp, tp, t = roc_curve(y2b, y2d)\n",
    "plt.figure()\n",
    "plt.plot(fp, tp)\n",
    "plt.plot(cm[0][1] / (cm[0][0] + cm[0][1]),\n",
    "         cm[1][1] / (cm[1][0] + cm[1][1]), 'ob')\n",
    "plt.title('ROC curve')\n",
    "plt.xlabel(\"FP-rate\")\n",
    "plt.ylabel(\"TP-rate\")\n",
    "plt.grid(True)\n",
    "plt.show()\n"
   ]
  },
  {
   "cell_type": "markdown",
   "metadata": {},
   "source": [
    "We can see that without any normalization, the classifier doesn't guess any image as ship, resulting in a score of 0.9 because every other class isn't a ship.\n",
    "With normalization, the classifier was able to guess some of the images as ship, despite getting a bit more errors"
   ]
  },
  {
   "cell_type": "markdown",
   "metadata": {},
   "source": [
    "## RandomForestClassifier\n",
    "why"
   ]
  },
  {
   "cell_type": "code",
   "execution_count": null,
   "metadata": {},
   "outputs": [],
   "source": [
    "from sklearn.ensemble import RandomForestClassifier\n"
   ]
  },
  {
   "cell_type": "markdown",
   "metadata": {},
   "source": [
    "### Not normalized data"
   ]
  },
  {
   "cell_type": "code",
   "execution_count": null,
   "metadata": {},
   "outputs": [],
   "source": [
    "rfcb = RandomForestClassifier().fit(X1, y1b)\n",
    "y2e = rfcb.predict(X2)\n",
    "\n",
    "print('Score:', rfcb.score(X2, y2b))\n",
    "print(\"Number of errors:\", np.sum(y2b != y2e))\n",
    "print(classification_report(y2b, y2e))\n",
    "\n",
    "plt.figure()\n",
    "plt.plot(y2e, \".\", alpha=0.5)\n",
    "plt.plot(y2b)\n",
    "plt.show()\n",
    "\n",
    "print('Prediction')\n",
    "cm = confusion_matrix(y2b, y2e)\n",
    "print(cm)\n"
   ]
  },
  {
   "cell_type": "markdown",
   "metadata": {},
   "source": [
    "#### Decision function"
   ]
  },
  {
   "cell_type": "code",
   "execution_count": null,
   "metadata": {},
   "outputs": [],
   "source": [
    "th = 0.25\n",
    "y2d = rfcb.predict_proba(X2)[:, 1]\n",
    "\n",
    "plt.figure()\n",
    "plt.plot(y2d)\n",
    "plt.axhline(th, color='r')\n",
    "plt.title(\"Decision function\")\n",
    "plt.show()\n",
    "\n",
    "print(f'Decision function with threshold = {th}')\n",
    "cm = confusion_matrix(y2b, (y2d >= th)*1)\n",
    "print(cm)\n",
    "\n",
    "fp, tp, t = roc_curve(y2b, y2d)\n",
    "plt.figure()\n",
    "plt.plot(fp, tp)\n",
    "plt.plot(cm[0][1] / (cm[0][0] + cm[0][1]),\n",
    "         cm[1][1] / (cm[1][0] + cm[1][1]), 'ob')\n",
    "plt.title('ROC curve')\n",
    "plt.xlabel(\"FP-rate\")\n",
    "plt.ylabel(\"TP-rate\")\n",
    "plt.grid(True)\n",
    "plt.show()\n"
   ]
  },
  {
   "cell_type": "markdown",
   "metadata": {},
   "source": [
    "### Normalized data"
   ]
  },
  {
   "cell_type": "code",
   "execution_count": null,
   "metadata": {},
   "outputs": [],
   "source": [
    "rfcbn = RandomForestClassifier().fit(X1s, y1b)\n",
    "y2e = rfcbn.predict(X2s)\n",
    "\n",
    "print('Score:', rfcbn.score(X2s, y2b))\n",
    "print(\"Number of errors:\", np.sum(y2b != y2e))\n",
    "print(classification_report(y2b, y2e))\n",
    "\n",
    "plt.figure()\n",
    "plt.plot(y2e, \".\", alpha=0.5)\n",
    "plt.plot(y2b)\n",
    "plt.show()\n",
    "\n",
    "print('Prediction')\n",
    "cm = confusion_matrix(y2b, y2e)\n",
    "print(cm)\n"
   ]
  },
  {
   "cell_type": "markdown",
   "metadata": {},
   "source": [
    "#### Decision function"
   ]
  },
  {
   "cell_type": "code",
   "execution_count": null,
   "metadata": {},
   "outputs": [],
   "source": [
    "th = 0.25\n",
    "y2d = rfcbn.predict_proba(X2s)[:, 1]\n",
    "\n",
    "plt.figure()\n",
    "plt.plot(y2d)\n",
    "plt.axhline(th, color='r')\n",
    "plt.title(\"Decision function\")\n",
    "plt.show()\n",
    "\n",
    "print(f'Decision function with threshold = {th}')\n",
    "cm = confusion_matrix(y2b, (y2d >= th)*1)\n",
    "print(cm)\n",
    "\n",
    "fp, tp, t = roc_curve(y2b, y2d)\n",
    "plt.figure()\n",
    "plt.plot(fp, tp)\n",
    "plt.plot(cm[0][1] / (cm[0][0] + cm[0][1]),\n",
    "         cm[1][1] / (cm[1][0] + cm[1][1]), 'ob')\n",
    "plt.title('ROC curve')\n",
    "plt.xlabel(\"FP-rate\")\n",
    "plt.ylabel(\"TP-rate\")\n",
    "plt.grid(True)\n",
    "plt.show()\n"
   ]
  },
  {
   "cell_type": "markdown",
   "metadata": {},
   "source": [
    "#### Compare normalization!"
   ]
  },
  {
   "cell_type": "markdown",
   "metadata": {},
   "source": [
    "#### Compare classifiers!"
   ]
  },
  {
   "cell_type": "markdown",
   "metadata": {},
   "source": [
    "# Multi-class classification\n",
    "\n",
    "We decided to use the SGDClassifier because it takes a significant less amount of time to train comparing to the RandomForestClassifier"
   ]
  },
  {
   "cell_type": "markdown",
   "metadata": {},
   "source": [
    "### Not normalized data"
   ]
  },
  {
   "cell_type": "code",
   "execution_count": null,
   "metadata": {},
   "outputs": [],
   "source": [
    "sgd = SGDClassifier().fit(X1, y1)\n",
    "y2e = sgd.predict(X2)\n",
    "\n",
    "print('Score:', sgd.score(X2, y2))\n",
    "print(\"Number of errors:\", np.sum(y2 != y2e))\n",
    "print(classification_report(y2, y2e))\n",
    "\n",
    "plt.figure()\n",
    "plt.plot(y2e, \".\", alpha=0.5)\n",
    "plt.plot(y2)\n",
    "plt.show()\n",
    "\n",
    "print('Prediction')\n",
    "cm = confusion_matrix(y2, y2e)\n",
    "# print(cm)\n",
    "\n",
    "plot_confusion_matrix(\n",
    "    cm,\n",
    "    classes=[\n",
    "        \"airplane\",\n",
    "        \"automobile\",\n",
    "        \"bird\",\n",
    "        \"cat\",\n",
    "        \"deer\",\n",
    "        \"dog\",\n",
    "        \"frog\",\n",
    "        \"horse\",\n",
    "        \"ship\",\n",
    "        \"truck\",\n",
    "    ],\n",
    ")\n"
   ]
  },
  {
   "cell_type": "markdown",
   "metadata": {},
   "source": [
    "### Normalized data"
   ]
  },
  {
   "cell_type": "code",
   "execution_count": null,
   "metadata": {},
   "outputs": [],
   "source": [
    "sgdn = SGDClassifier().fit(X1s, y1)\n",
    "y2e = sgdn.predict(X2s)\n",
    "\n",
    "print('Score:', sgdn.score(X2s, y2))\n",
    "print(\"Number of errors:\", np.sum(y2 != y2e))\n",
    "print(classification_report(y2, y2e))\n",
    "\n",
    "plt.figure()\n",
    "plt.plot(y2e, \".\", alpha=0.5)\n",
    "plt.plot(y2)\n",
    "plt.show()\n",
    "\n",
    "print('Prediction')\n",
    "cm = confusion_matrix(y2, y2e)\n",
    "# print(cm)\n",
    "\n",
    "plot_confusion_matrix(\n",
    "    cm,\n",
    "    classes=[\n",
    "        \"airplane\",\n",
    "        \"automobile\",\n",
    "        \"bird\",\n",
    "        \"cat\",\n",
    "        \"deer\",\n",
    "        \"dog\",\n",
    "        \"frog\",\n",
    "        \"horse\",\n",
    "        \"ship\",\n",
    "        \"truck\",\n",
    "    ],\n",
    ")\n"
   ]
  },
  {
   "cell_type": "markdown",
   "metadata": {},
   "source": [
    "We can see that in the multi-class classification, the classifier performed better with the data normalized"
   ]
  },
  {
   "cell_type": "markdown",
   "metadata": {},
   "source": [
    "### Validation\n",
    "We'll use only the train data to estimate the performance of the classifier and compare. We'll be using the normalized data because of the better performance.\n",
    "We could use the KFold strategy to do the same but we decided to just split the training data and working with that as if it was the train and test data provided"
   ]
  },
  {
   "cell_type": "code",
   "execution_count": null,
   "metadata": {},
   "outputs": [],
   "source": [
    "from sklearn.model_selection import train_test_split\n"
   ]
  },
  {
   "cell_type": "code",
   "execution_count": null,
   "metadata": {},
   "outputs": [],
   "source": [
    "X_train, X_test, y_train, y_test = train_test_split(\n",
    "    X1s, y1, stratify=y1, test_size=0.2)\n",
    "\n",
    "# Randomize new train data\n",
    "idx = rnd.permutation(X_train.shape[0])\n",
    "X_train = X_train[idx]\n",
    "y_train = y_train[idx]\n",
    "\n",
    "# Order new test data\n",
    "idx = np.argsort(y_test)\n",
    "X_test = X_test[idx]\n",
    "y_test = y_test[idx]\n",
    "\n",
    "sgdn = SGDClassifier().fit(X_train, y_train)\n",
    "y_test_e = sgdn.predict(X_test)\n",
    "\n",
    "print('Score:', sgdn.score(X_test, y_test))\n",
    "print(\"Number of errors:\", np.sum(y_test != y_test_e))\n",
    "print(classification_report(y_test, y_test_e))\n",
    "\n",
    "plt.figure()\n",
    "plt.plot(y_test_e, \".\", alpha=0.5)\n",
    "plt.plot(y_test)\n",
    "plt.show()\n",
    "\n",
    "print('Prediction')\n",
    "cm = confusion_matrix(y_test, y_test_e)\n",
    "# print(cm)\n",
    "\n",
    "plot_confusion_matrix(\n",
    "    cm,\n",
    "    classes=[\n",
    "        \"airplane\",\n",
    "        \"automobile\",\n",
    "        \"bird\",\n",
    "        \"cat\",\n",
    "        \"deer\",\n",
    "        \"dog\",\n",
    "        \"frog\",\n",
    "        \"horse\",\n",
    "        \"ship\",\n",
    "        \"truck\",\n",
    "    ],\n",
    ")\n"
   ]
  },
  {
   "cell_type": "markdown",
   "metadata": {},
   "source": [
    "## PCA\n",
    "The images are in grayscale and are already with a low resolution. We're expecting that the PCA will impact the classification because the images already have low information and reducing the dimensionality will worsen the performance"
   ]
  },
  {
   "cell_type": "code",
   "execution_count": null,
   "metadata": {},
   "outputs": [],
   "source": [
    "from sklearn.decomposition import PCA\n"
   ]
  },
  {
   "cell_type": "markdown",
   "metadata": {},
   "source": [
    "### Not normalized data"
   ]
  },
  {
   "cell_type": "code",
   "execution_count": null,
   "metadata": {},
   "outputs": [],
   "source": [
    "n_components = np.arange(50, 501, 50)\n",
    "best_score = 0\n",
    "best_n = 0\n",
    "best_sgd = None\n",
    "best_pca = None\n",
    "\n",
    "for n in n_components:\n",
    "    pca = PCA(n_components=n).fit(X1)\n",
    "    X1p = pca.transform(X1)\n",
    "    X2p = pca.transform(X2)\n",
    "\n",
    "    sgd = SGDClassifier().fit(X1p, y1)\n",
    "    y2e = sgd.predict(X2p)\n",
    "\n",
    "    score = sgd.score(X2p, y2)\n",
    "\n",
    "    if score > best_score:\n",
    "        best_score = score\n",
    "        best_n = n\n",
    "        best_sgd = sgd\n",
    "        best_pca = pca\n",
    "\n",
    "print('Best n_components:', best_n)\n",
    "\n",
    "sgd = best_sgd\n",
    "pca = best_pca\n",
    "\n",
    "# pca = PCA(n_components=best_n).fit(X1)\n",
    "X1p = pca.transform(X1)\n",
    "X2p = pca.transform(X2)\n",
    "\n",
    "# sgd = SGDClassifier().fit(X1p, y1)\n",
    "y2e = sgd.predict(X2p)\n",
    "\n",
    "print('Score:', sgd.score(X2p, y2))\n",
    "print(\"Number of errors:\", np.sum(y2 != y2e))\n",
    "print(classification_report(y2, y2e))\n",
    "\n",
    "plt.figure()\n",
    "plt.plot(y2e, \".\", alpha=0.5)\n",
    "plt.plot(y2)\n",
    "plt.show()\n",
    "\n",
    "print('Prediction')\n",
    "cm = confusion_matrix(y2, y2e)\n",
    "# print(cm)\n",
    "\n",
    "plot_confusion_matrix(\n",
    "    cm,\n",
    "    classes=[\n",
    "        \"airplane\",\n",
    "        \"automobile\",\n",
    "        \"bird\",\n",
    "        \"cat\",\n",
    "        \"deer\",\n",
    "        \"dog\",\n",
    "        \"frog\",\n",
    "        \"horse\",\n",
    "        \"ship\",\n",
    "        \"truck\",\n",
    "    ],\n",
    ")\n"
   ]
  },
  {
   "cell_type": "markdown",
   "metadata": {},
   "source": [
    "### Normalized data"
   ]
  },
  {
   "cell_type": "code",
   "execution_count": null,
   "metadata": {},
   "outputs": [],
   "source": [
    "n_components = np.arange(50, 501, 50)\n",
    "best_score = 0\n",
    "best_n = 0\n",
    "best_sgd = None\n",
    "best_pca = None\n",
    "\n",
    "for n in n_components:\n",
    "    pca = PCA(n_components=n).fit(X1s)\n",
    "    X1sp = pca.transform(X1s)\n",
    "    X2sp = pca.transform(X2s)\n",
    "\n",
    "    sgdn = SGDClassifier().fit(X1sp, y1)\n",
    "    y2e = sgdn.predict(X2sp)\n",
    "\n",
    "    score = sgd.score(X2sp, y2)\n",
    "\n",
    "    if score > best_score:\n",
    "        best_score = score\n",
    "        best_n = n\n",
    "        best_sgd = sgdn\n",
    "        best_pca = pca\n",
    "\n",
    "print('Best n_components:', best_n)\n",
    "\n",
    "sgdn = best_sgd\n",
    "pca = best_pca\n",
    "\n",
    "# pca = PCA(n_components=best_n).fit(X1s)\n",
    "X1sp = pca.transform(X1s)\n",
    "X2sp = pca.transform(X2s)\n",
    "\n",
    "# sgdn = SGDClassifier().fit(X1sp, y1)\n",
    "y2e = sgdn.predict(X2sp)\n",
    "\n",
    "print('Score:', sgdn.score(X2sp, y2))\n",
    "print(\"Number of errors:\", np.sum(y2 != y2e))\n",
    "print(classification_report(y2, y2e))\n",
    "\n",
    "plt.figure()\n",
    "plt.plot(y2e, \".\", alpha=0.5)\n",
    "plt.plot(y2)\n",
    "plt.show()\n",
    "\n",
    "print('Prediction')\n",
    "cm = confusion_matrix(y2, y2e)\n",
    "# print(cm)\n",
    "\n",
    "plot_confusion_matrix(\n",
    "    cm,\n",
    "    classes=[\n",
    "        \"airplane\",\n",
    "        \"automobile\",\n",
    "        \"bird\",\n",
    "        \"cat\",\n",
    "        \"deer\",\n",
    "        \"dog\",\n",
    "        \"frog\",\n",
    "        \"horse\",\n",
    "        \"ship\",\n",
    "        \"truck\",\n",
    "    ],\n",
    ")\n"
   ]
  },
  {
   "cell_type": "markdown",
   "metadata": {},
   "source": [
    "# Example preview"
   ]
  },
  {
   "cell_type": "code",
   "execution_count": null,
   "metadata": {},
   "outputs": [],
   "source": [
    "plot(Xtrain[0])\n",
    "plot(XtrainG[0])\n",
    "print(ytrain[0])\n"
   ]
  }
 ],
 "metadata": {
  "interpreter": {
   "hash": "c279b18b8beb4a8c881d91c61b7376ce8b2594517df33056bfd5bd915aacbce0"
  },
  "kernelspec": {
   "display_name": "Python 3.10.3 64-bit",
   "language": "python",
   "name": "python3"
  },
  "language_info": {
   "codemirror_mode": {
    "name": "ipython",
    "version": 3
   },
   "file_extension": ".py",
   "mimetype": "text/x-python",
   "name": "python",
   "nbconvert_exporter": "python",
   "pygments_lexer": "ipython3",
   "version": "3.10.3"
  },
  "orig_nbformat": 4
 },
 "nbformat": 4,
 "nbformat_minor": 2
}
