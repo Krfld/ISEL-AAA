{
 "cells": [
  {
   "cell_type": "raw",
   "metadata": {},
   "source": [
    "import tensorflow as tf\n",
    "import tensorflow.keras as keras\n"
   ]
  },
  {
   "cell_type": "raw",
   "metadata": {},
   "source": [
    "import tensorflow as tf\n",
    "import tensorflow.keras as keras\n",
    "nn=keras.Sequential()  #or: nn=keras.models.Sequential()\n",
    "nn.add(keras.layers.Dense(units=32, input_shape=(20,), activation=\"tanh\"))\n",
    "nn.add(keras.layers.Dense(10,activation=\"softmax\"))\n",
    "\n",
    "nn.compile(optimizer=\"adam\", loss=\"categorical crossentropy\",metrics=[\"accuracy\"])"
   ]
  },
  {
   "cell_type": "raw",
   "metadata": {},
   "source": [
    "nn.add(keras.layers.Dense(32,activation=keras.activations.relu))"
   ]
  },
  {
   "cell_type": "raw",
   "metadata": {},
   "source": [
    "keras.layers.Dense(32,activation=\"relu\", kernel regularizer=keras.regularizer.l1(0.02))"
   ]
  },
  {
   "cell_type": "raw",
   "metadata": {},
   "source": [
    "train=nn.fit(Xtrain,ytrain,epochs=10,batch size=1024,\\\n",
    "validation data=(Xvalid,yvalid))"
   ]
  },
  {
   "cell_type": "markdown",
   "metadata": {},
   "source": [
    "# NN with Tensorflow-Keras"
   ]
  },
  {
   "cell_type": "markdown",
   "metadata": {},
   "source": [
    "### Imports"
   ]
  },
  {
   "cell_type": "code",
   "execution_count": 2,
   "metadata": {},
   "outputs": [],
   "source": [
    "import numpy as np\n",
    "import matplotlib.pyplot as plt\n",
    "import tensorflow.keras as keras\n",
    "from tensorflow.keras.datasets import mnist"
   ]
  },
  {
   "cell_type": "code",
   "execution_count": 3,
   "metadata": {},
   "outputs": [],
   "source": [
    "# Load\n",
    "(Xtrain,ytrain),(Xtest,ytest)=mnist.load_data()"
   ]
  },
  {
   "cell_type": "code",
   "execution_count": 4,
   "metadata": {},
   "outputs": [
    {
     "name": "stdout",
     "output_type": "stream",
     "text": [
      "(20000, 28, 28)\n",
      "(20000,)\n",
      "(40000, 28, 28)\n",
      "(40000,)\n",
      "(10000, 28, 28)\n",
      "(28, 28)\n"
     ]
    }
   ],
   "source": [
    "# Dividir os dados de treino e validacao\n",
    "#Convert labels into vectors (one hot encoding).\n",
    "Ntrain=40000    \n",
    "\n",
    "Xvalid=Xtrain[Ntrain:]*1. # \"*1.\"→ to convert to float\n",
    "yvalid=ytrain[Ntrain:]\n",
    "Xtrain=Xtrain[:Ntrain]*1.\n",
    "ytrain=ytrain[:Ntrain]\n",
    "\n",
    "Xtest=Xtest*1.\n",
    "\n",
    "print(Xvalid.shape)\n",
    "print(yvalid.shape)\n",
    "print(Xtrain.shape)\n",
    "print(ytrain.shape)\n",
    "print(Xtest.shape)\n",
    "\n",
    "print(Xtrain[0].shape)"
   ]
  },
  {
   "cell_type": "code",
   "execution_count": 16,
   "metadata": {},
   "outputs": [
    {
     "name": "stdout",
     "output_type": "stream",
     "text": [
      "(40000,)\n",
      "[5 0 4 ... 9 9 5]\n",
      "(40000, 10)\n",
      "[0. 0. 0. 0. 0. 1. 0. 0. 0. 0.]\n"
     ]
    }
   ],
   "source": [
    "print(ytrain.shape)\n",
    "print(ytrain)\n",
    "print(ytrainB.shape)\n",
    "print(ytrainB[0])"
   ]
  },
  {
   "cell_type": "code",
   "execution_count": null,
   "metadata": {},
   "outputs": [],
   "source": [
    "# Como escolher o nuemro de camadas e neuronios?\n",
    "# escolher a funcao loss? \n",
    "#       loss=\"binary_crossentropy\" ou \"categorical_crossentropy\"\n",
    "# Escolher o optimador:\n",
    "#   optimizer=\"Adam\" ou Nadam\n",
    "# como escolher a funcao de ativacao?\n",
    "\n",
    "# pre-processing (e.g Flatten, Masking)\n",
    "# PArametros do fit(Xtrain,ytrain,epochs=10,batch size=1024, validation data=(Xvalid,yvalid))\n",
    "#    epochs : numero de veze que passa nos dados durante o treino\n",
    "#    Batch_size:"
   ]
  },
  {
   "cell_type": "code",
   "execution_count": 17,
   "metadata": {},
   "outputs": [],
   "source": [
    "# Passar para lista de 0 e 1 em vez de um 5 = [0. 0. 0. 0. 0. 1. 0. 0. 0. 0.]\n",
    "\n",
    "ytrainB=keras.utils.to_categorical(ytrain)\n",
    "yvalidB=keras.utils.to_categorical(yvalid)\n",
    "ytestB=keras.utils.to_categorical(ytest)\n"
   ]
  },
  {
   "cell_type": "markdown",
   "metadata": {},
   "source": [
    "### Criar a rede"
   ]
  },
  {
   "cell_type": "code",
   "execution_count": 18,
   "metadata": {},
   "outputs": [
    {
     "name": "stdout",
     "output_type": "stream",
     "text": [
      "WARNING:tensorflow:From C:\\Users\\ruben\\AppData\\Local\\Continuum\\anaconda3\\lib\\site-packages\\tensorflow\\python\\ops\\init_ops.py:1251: calling VarianceScaling.__init__ (from tensorflow.python.ops.init_ops) with dtype is deprecated and will be removed in a future version.\n",
      "Instructions for updating:\n",
      "Call initializer instance with the dtype argument instead of passing it to the constructor\n"
     ]
    }
   ],
   "source": [
    "#Iniciar o tipo de rede    \n",
    "#  -Keras has available two types of models: the sequential \n",
    "#   models and models defined with Keras functional API\n",
    "nn=keras.Sequential()\n",
    "\n",
    "#Camadas escondidas\n",
    "# Flatten - passa tudo para um vetor \n",
    "# reduces the input data into a single dimension instead of 2 dimensions\n",
    "nn.add(keras.layers.Flatten(input_shape=[28, 28])) # Reshapeof the input\n",
    "nn.add(keras.layers.Dense(50, activation=\"tanh\"))\n",
    "nn.add(keras.layers.Dense(10,activation='softmax')) # softmax activation (outputs = number of classes)"
   ]
  },
  {
   "cell_type": "code",
   "execution_count": 19,
   "metadata": {},
   "outputs": [
    {
     "name": "stdout",
     "output_type": "stream",
     "text": [
      "Model: \"sequential\"\n",
      "_________________________________________________________________\n",
      "Layer (type)                 Output Shape              Param #   \n",
      "=================================================================\n",
      "flatten (Flatten)            (None, 784)               0         \n",
      "_________________________________________________________________\n",
      "dense (Dense)                (None, 50)                39250     \n",
      "_________________________________________________________________\n",
      "dense_1 (Dense)              (None, 10)                510       \n",
      "=================================================================\n",
      "Total params: 39,760\n",
      "Trainable params: 39,760\n",
      "Non-trainable params: 0\n",
      "_________________________________________________________________\n"
     ]
    }
   ],
   "source": [
    "# To check the configuration of a given model, use the .summary() method\n",
    "nn.summary()"
   ]
  },
  {
   "cell_type": "markdown",
   "metadata": {},
   "source": [
    "### Compilar e treinar"
   ]
  },
  {
   "cell_type": "code",
   "execution_count": 20,
   "metadata": {},
   "outputs": [],
   "source": [
    "nn.compile(optimizer=\"nadam\", loss=\"categorical_crossentropy\",metrics=[\"accuracy\"])"
   ]
  },
  {
   "cell_type": "code",
   "execution_count": 21,
   "metadata": {},
   "outputs": [
    {
     "name": "stdout",
     "output_type": "stream",
     "text": [
      "Train on 40000 samples, validate on 20000 samples\n",
      "Epoch 1/10\n",
      "40000/40000 [==============================] - 1s 24us/sample - loss: 1.6282 - acc: 0.4827 - val_loss: 0.9857 - val_acc: 0.7206\n",
      "Epoch 2/10\n",
      "40000/40000 [==============================] - 1s 13us/sample - loss: 0.8074 - acc: 0.7726 - val_loss: 0.6757 - val_acc: 0.8133\n",
      "Epoch 3/10\n",
      "40000/40000 [==============================] - 1s 13us/sample - loss: 0.6040 - acc: 0.8315 - val_loss: 0.5555 - val_acc: 0.8407\n",
      "Epoch 4/10\n",
      "40000/40000 [==============================] - 1s 13us/sample - loss: 0.5157 - acc: 0.8522 - val_loss: 0.4922 - val_acc: 0.8592\n",
      "Epoch 5/10\n",
      "40000/40000 [==============================] - 0s 12us/sample - loss: 0.4518 - acc: 0.8719 - val_loss: 0.4376 - val_acc: 0.8752\n",
      "Epoch 6/10\n",
      "40000/40000 [==============================] - 0s 12us/sample - loss: 0.4125 - acc: 0.8830 - val_loss: 0.4018 - val_acc: 0.8857\n",
      "Epoch 7/10\n",
      "40000/40000 [==============================] - 0s 12us/sample - loss: 0.3833 - acc: 0.8920 - val_loss: 0.3962 - val_acc: 0.8826\n",
      "Epoch 8/10\n",
      "40000/40000 [==============================] - 1s 13us/sample - loss: 0.3706 - acc: 0.8918 - val_loss: 0.3693 - val_acc: 0.8923\n",
      "Epoch 9/10\n",
      "40000/40000 [==============================] - 0s 12us/sample - loss: 0.3398 - acc: 0.9019 - val_loss: 0.3573 - val_acc: 0.8920\n",
      "Epoch 10/10\n",
      "40000/40000 [==============================] - 1s 13us/sample - loss: 0.3312 - acc: 0.9033 - val_loss: 0.3511 - val_acc: 0.8965\n"
     ]
    }
   ],
   "source": [
    "train=nn.fit(Xtrain, ytrainB, \n",
    "             epochs=10, \n",
    "             batch_size=1024, \n",
    "             validation_data= (Xvalid, yvalidB))"
   ]
  },
  {
   "cell_type": "code",
   "execution_count": 22,
   "metadata": {},
   "outputs": [
    {
     "data": {
      "image/png": "[encoded data removed]",
      "text/plain": [
       "<Figure size 432x288 with 1 Axes>"
      ]
     },
     "metadata": {
      "needs_background": "light"
     },
     "output_type": "display_data"
    }
   ],
   "source": [
    "h=train.history\n",
    "plt.plot(h[\"loss\"], label='Loss')\n",
    "plt.plot(h[\"acc\"], label='Accuracy')\n",
    "plt.plot(h[\"val_loss\"], label='Val Loss')\n",
    "plt.plot(h[\"val_acc\"], label='Val Acurracy')\n",
    "plt.legend()\n",
    "plt.show()"
   ]
  },
  {
   "cell_type": "markdown",
   "metadata": {},
   "source": [
    "## Avaliar a performace"
   ]
  },
  {
   "cell_type": "code",
   "execution_count": 29,
   "metadata": {},
   "outputs": [],
   "source": [
    "#Predictions on the test set\n",
    "yOut=nn.predict(Xtest)\n",
    "\n",
    "#The predicted outputs have to be converted back to integer labels (0-9)\n",
    "ytestPred=np.argmax(yOut,axis=1)"
   ]
  },
  {
   "cell_type": "code",
   "execution_count": 30,
   "metadata": {},
   "outputs": [
    {
     "name": "stdout",
     "output_type": "stream",
     "text": [
      "[[ 949    0    4    4    0    5   12    2    3    1]\n",
      " [   0 1097   11   10    0    4    3    0   10    0]\n",
      " [  15    1  931   24   15    3    6    9   25    3]\n",
      " [   4    1   31  896    0   33    2   12   24    7]\n",
      " [   2    4    8    3  862    4   15    4    8   72]\n",
      " [  19    1    6   50    4  744   18    5   37    8]\n",
      " [  16    3    8    3   12   15  895    0    6    0]\n",
      " [   2   10   24   13    9    1    1  925    4   39]\n",
      " [  15    5   14   30    7   39   13   14  813   24]\n",
      " [  10    4    2   14   25    5    2   24   14  909]]\n"
     ]
    }
   ],
   "source": [
    "from sklearn.metrics import confusion_matrix\n",
    "print(confusion_matrix(ytest,ytestPred))"
   ]
  },
  {
   "cell_type": "code",
   "execution_count": 31,
   "metadata": {},
   "outputs": [
    {
     "name": "stdout",
     "output_type": "stream",
     "text": [
      "10000/10000 [==============================] - 0s 23us/sample - loss: 0.3368 - acc: 0.9021\n"
     ]
    },
    {
     "data": {
      "text/plain": [
       "[0.3368219717621803, 0.9021]"
      ]
     },
     "execution_count": 31,
     "metadata": {},
     "output_type": "execute_result"
    }
   ],
   "source": [
    "nn.evaluate(Xtest, ytestB)"
   ]
  },
  {
   "cell_type": "markdown",
   "metadata": {},
   "source": [
    "### Guardar o modelo"
   ]
  },
  {
   "cell_type": "raw",
   "metadata": {},
   "source": [
    "!pip install h5py"
   ]
  },
  {
   "cell_type": "code",
   "execution_count": 1,
   "metadata": {},
   "outputs": [],
   "source": [
    "# If you need to install the package: pip -install h5py.\n",
    "from tensorflow.keras.models import load_model\n",
    "nn=load_model"
   ]
  },
  {
   "cell_type": "code",
   "execution_count": 34,
   "metadata": {},
   "outputs": [
    {
     "name": "stdout",
     "output_type": "stream",
     "text": [
      "WARNING:tensorflow:`period` argument is deprecated. Please use `save_freq` to specify the frequency in number of samples seen.\n"
     ]
    },
    {
     "data": {
      "text/plain": [
       "<tensorflow.python.keras.callbacks.ModelCheckpoint at 0x20c95af9b38>"
      ]
     },
     "execution_count": 34,
     "metadata": {},
     "output_type": "execute_result"
    }
   ],
   "source": [
    "import tensorflow as tf\n",
    "fileName = \"fileeee\"\n",
    "tf.keras.callbacks.ModelCheckpoint(fileName, monitor=\"val_loss\", \n",
    "                                           verbose=1, save_best_only=True, \n",
    "                                           save_weights_only=False, mode=\"auto\", \n",
    "                                           period=1)"
   ]
  },
  {
   "cell_type": "code",
   "execution_count": 5,
   "metadata": {},
   "outputs": [
    {
     "data": {
      "text/plain": [
       "<tensorflow.python.keras.callbacks.EarlyStopping at 0x27bfc2abd68>"
      ]
     },
     "execution_count": 5,
     "metadata": {},
     "output_type": "execute_result"
    }
   ],
   "source": [
    "tf.keras.callbacks.EarlyStopping(monitor=\"val loss\", patience=5, \n",
    "                                         verbose=1, mode=\"auto\", \n",
    "                                         restore_best_weights=True)"
   ]
  },
  {
   "cell_type": "markdown",
   "metadata": {},
   "source": [
    "## Callbacks"
   ]
  },
  {
   "cell_type": "code",
   "execution_count": null,
   "metadata": {},
   "outputs": [],
   "source": [
    "from tensorflow.keras import callbacks\n",
    "CB1=callbacks.ModelCheckpoint(fileName1, period=1)\n",
    "\n",
    "CB2=callbacks.EarlyStopping(monitor=\"val loss\", patience=5, verbose=1, \n",
    "                            mode=\"auto\", restore_best_weights=True)\n",
    "CB3=callbacks.CSVLogger(fileName2, separator=\",\", append=False)\n",
    "CBlist=[CB1,CB2,CB3]\n"
   ]
  },
  {
   "cell_type": "code",
   "execution_count": null,
   "metadata": {},
   "outputs": [],
   "source": [
    "train=nn.fit(Xtrain,ytrain,epochs=10,batch size=1024, \n",
    "             validation data=(Xvalid,yvalid), callbacks=CBlist)"
   ]
  },
  {
   "cell_type": "code",
   "execution_count": null,
   "metadata": {},
   "outputs": [],
   "source": []
  },
  {
   "cell_type": "code",
   "execution_count": null,
   "metadata": {},
   "outputs": [],
   "source": [
    "# diferenca entre os dois\n",
    "## cnn sao um pouco lenta mas prevem melhor\n",
    "# "
   ]
  },
  {
   "cell_type": "code",
   "execution_count": null,
   "metadata": {},
   "outputs": [],
   "source": []
  },
  {
   "cell_type": "code",
   "execution_count": null,
   "metadata": {},
   "outputs": [],
   "source": []
  },
  {
   "cell_type": "code",
   "execution_count": null,
   "metadata": {},
   "outputs": [],
   "source": []
  },
  {
   "cell_type": "code",
   "execution_count": null,
   "metadata": {},
   "outputs": [],
   "source": []
  }
 ],
 "metadata": {
  "kernelspec": {
   "display_name": "Python 3",
   "language": "python",
   "name": "python3"
  },
  "language_info": {
   "codemirror_mode": {
    "name": "ipython",
    "version": 3
   },
   "file_extension": ".py",
   "mimetype": "text/x-python",
   "name": "python",
   "nbconvert_exporter": "python",
   "pygments_lexer": "ipython3",
   "version": "3.7.1"
  }
 },
 "nbformat": 4,
 "nbformat_minor": 2
}
