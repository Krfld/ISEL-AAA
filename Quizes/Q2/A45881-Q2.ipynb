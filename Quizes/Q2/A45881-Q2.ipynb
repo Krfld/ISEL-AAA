{
 "cells": [
  {
   "cell_type": "markdown",
   "metadata": {},
   "source": [
    "# In-Class Quiz Nº 2"
   ]
  },
  {
   "cell_type": "markdown",
   "metadata": {},
   "source": [
    "<hr style=\"border:1px  solid black\"> </hr>"
   ]
  },
  {
   "cell_type": "markdown",
   "metadata": {},
   "source": [
    "### (Fill in)\n",
    "## Name: Rodrigo Dias\n",
    "## Number: 45881"
   ]
  },
  {
   "cell_type": "markdown",
   "metadata": {},
   "source": [
    "<hr style=\"border:1px  solid black\"> </hr>"
   ]
  },
  {
   "cell_type": "markdown",
   "metadata": {},
   "source": [
    "## Develop and run the requested code in the cells immediately below the questions."
   ]
  },
  {
   "cell_type": "markdown",
   "metadata": {},
   "source": [
    "# IMPORTANT:\n",
    "## Once completed, save this Jupyter notebook with the following name:\n",
    "## Axxxxx-Q2.ipynb (Axxxxx: student number)\n",
    "##  and then upload the file to the Moodle link provided for that purpose."
   ]
  },
  {
   "cell_type": "markdown",
   "metadata": {},
   "source": [
    "<hr style=\"border:2px solid black\"> </hr>"
   ]
  },
  {
   "cell_type": "markdown",
   "metadata": {},
   "source": [
    "# Data: MNIST dataset (small version) - pickle file $\\texttt{MNISTsmall.p}$\n",
    "## This file has the following variables (in a dictionary)\n",
    "* ### X1: training data ($1000\\times784$  uint8 array)\n",
    "* ### y1: classes of the training data (numbers 0 to 9)\n",
    "* ### X2: test data ($5000\\times784$ uint8 array)\n",
    "* ### y2: classes of the test data (numbers 0 to 9)"
   ]
  },
  {
   "cell_type": "code",
   "execution_count": 227,
   "metadata": {},
   "outputs": [
    {
     "name": "stdout",
     "output_type": "stream",
     "text": [
      "(10000, 784) (10000,)\n",
      "(5000, 784) (5000,)\n"
     ]
    }
   ],
   "source": [
    "import numpy as np\n",
    "import matplotlib.pyplot as plt\n",
    "from sklearn.metrics import confusion_matrix, roc_curve\n",
    "from sklearn.model_selection import train_test_split\n",
    "from sklearn.svm import LinearSVC\n",
    "from sklearn.preprocessing import StandardScaler\n",
    "from sklearn.ensemble import RandomForestClassifier\n",
    "from sklearn.decomposition import PCA\n",
    "import pickle\n",
    "\n",
    "# load data\n",
    "D = pickle.load(open(\"MNISTsmall.p\", \"rb\"))\n",
    "X1 = D.X1 * 1.0\n",
    "X2 = D.X2 * 1.0\n",
    "y1 = D.y1\n",
    "y2 = D.y2\n",
    "\n",
    "print(X1.shape, y1.shape)\n",
    "print(X2.shape, y2.shape)\n"
   ]
  },
  {
   "cell_type": "markdown",
   "metadata": {},
   "source": [
    "# Question 1: Binary Classification\n",
    "##  Consider the examples of class three (3) as the positive class and the remaning classes as the negative examples.\n",
    "### a) Use the training set to find which dimensions of the data have a variance less than one hundred (100). Print this number and remove these dimensions from the training and test sets.\n",
    "### b) Use the training data to train a $\\texttt{LinearSVC}$ classifier with the following parameters: $\\texttt{random_state=42}$ and $\\texttt{C=0.1}$. Print the total number of errors and the confusion matrix for the test data.\n",
    "### c) Plot the ROC curve of this classifier with the test data. Include in this plot the operating point of the classifier.\n",
    "### d) Pre-process the data of item 1.a) using the function  $\\texttt{StandardScaler}$. Train this function with the training data and apply the transformation to the training and test sets. Use the new training data to train a $\\texttt{LinearSVC}$ classifier with the following parameters: $\\texttt{random_state=42}$ and $\\texttt{C=0.1}$. Print the total number of errors and the confusion matrix for the new test data.\n",
    "### e) In the same figure, plot the ROC curves of the classifiers of item 1.b) and 1.d) with the respective test data. Include in this plot the operational points of both classifiers."
   ]
  },
  {
   "cell_type": "code",
   "execution_count": 228,
   "metadata": {},
   "outputs": [],
   "source": [
    "# binary labels\n",
    "y1b = (y1 == 3) * 1\n",
    "y2b = (y2 == 3) * 1\n"
   ]
  },
  {
   "cell_type": "markdown",
   "metadata": {},
   "source": [
    "## 1.a)"
   ]
  },
  {
   "cell_type": "code",
   "execution_count": 229,
   "metadata": {},
   "outputs": [
    {
     "name": "stdout",
     "output_type": "stream",
     "text": [
      "Dimensions removed 526\n"
     ]
    }
   ],
   "source": [
    "b = X1.shape[1]\n",
    "varUnder100 = X1.var(axis=0) < 100\n",
    "X1 = X1[:, varUnder100]\n",
    "X2 = X2[:, varUnder100]\n",
    "a = X1.shape[1]\n",
    "\n",
    "print(\"Dimensions removed\", b - a)\n"
   ]
  },
  {
   "cell_type": "markdown",
   "metadata": {},
   "source": [
    "## 1.b)"
   ]
  },
  {
   "cell_type": "code",
   "execution_count": 230,
   "metadata": {},
   "outputs": [
    {
     "name": "stdout",
     "output_type": "stream",
     "text": [
      "Number of errors: 506\n",
      "[[4479   21]\n",
      " [ 485   15]]\n"
     ]
    },
    {
     "name": "stderr",
     "output_type": "stream",
     "text": [
      "C:\\Users\\Kiko\\AppData\\Local\\Programs\\Python\\Python310\\lib\\site-packages\\sklearn\\svm\\_base.py:1206: ConvergenceWarning: Liblinear failed to converge, increase the number of iterations.\n",
      "  warnings.warn(\n"
     ]
    }
   ],
   "source": [
    "lsvc = LinearSVC(random_state=42, C=0.1).fit(X1, y1b)\n",
    "y2e = lsvc.predict(X2)\n",
    "\n",
    "print(\"Number of errors:\", np.sum(y2b != y2e))\n",
    "cm = confusion_matrix(y2b, y2e)\n",
    "print(cm)\n"
   ]
  },
  {
   "cell_type": "markdown",
   "metadata": {},
   "source": [
    "## 1.c)"
   ]
  },
  {
   "cell_type": "code",
   "execution_count": 231,
   "metadata": {},
   "outputs": [
    {
     "data": {
      "text/plain": [
       "[<matplotlib.lines.Line2D at 0x12f80e2e9e0>]"
      ]
     },
     "execution_count": 231,
     "metadata": {},
     "output_type": "execute_result"
    },
    {
     "data": {
      "image/png": "[encoded data removed]",
      "text/plain": [
       "<Figure size 432x288 with 1 Axes>"
      ]
     },
     "metadata": {
      "needs_background": "light"
     },
     "output_type": "display_data"
    }
   ],
   "source": [
    "df = lsvc.decision_function(X2)\n",
    "fpr, tpr, t = roc_curve(y2b, df)\n",
    "\n",
    "fp = cm[0][1] / (cm[0][0] + cm[0][1])\n",
    "tp = cm[1][1] / (cm[1][0] + cm[1][1])\n",
    "\n",
    "plt.figure()\n",
    "plt.plot(fpr, tpr)\n",
    "plt.plot(fp, tp, \"or\")\n"
   ]
  },
  {
   "cell_type": "markdown",
   "metadata": {},
   "source": [
    "## 1.d)"
   ]
  },
  {
   "cell_type": "code",
   "execution_count": 232,
   "metadata": {},
   "outputs": [
    {
     "name": "stdout",
     "output_type": "stream",
     "text": [
      "Number of errors: 502\n",
      "[[4498    2]\n",
      " [ 500    0]]\n"
     ]
    },
    {
     "name": "stderr",
     "output_type": "stream",
     "text": [
      "C:\\Users\\Kiko\\AppData\\Local\\Programs\\Python\\Python310\\lib\\site-packages\\sklearn\\svm\\_base.py:1206: ConvergenceWarning: Liblinear failed to converge, increase the number of iterations.\n",
      "  warnings.warn(\n"
     ]
    }
   ],
   "source": [
    "ss = StandardScaler().fit(X1)\n",
    "X1t = ss.transform(X1)\n",
    "X2t = ss.transform(X2)\n",
    "\n",
    "lsvc2 = LinearSVC(random_state=42, C=0.1).fit(X1t, y1b)\n",
    "y2e = lsvc.predict(X2t)\n",
    "\n",
    "print(\"Number of errors:\", np.sum(y2b != y2e))\n",
    "cm2 = confusion_matrix(y2b, y2e)\n",
    "print(cm2)\n"
   ]
  },
  {
   "cell_type": "markdown",
   "metadata": {},
   "source": [
    "## 1.e)"
   ]
  },
  {
   "cell_type": "code",
   "execution_count": 233,
   "metadata": {},
   "outputs": [
    {
     "data": {
      "text/plain": [
       "[<matplotlib.lines.Line2D at 0x12f80e8e020>]"
      ]
     },
     "execution_count": 233,
     "metadata": {},
     "output_type": "execute_result"
    },
    {
     "data": {
      "image/png": "[encoded data removed]",
      "text/plain": [
       "<Figure size 432x288 with 1 Axes>"
      ]
     },
     "metadata": {
      "needs_background": "light"
     },
     "output_type": "display_data"
    }
   ],
   "source": [
    "df2 = lsvc.decision_function(X2t)\n",
    "fpr2, tpr2, t2 = roc_curve(y2b, df2)\n",
    "\n",
    "fp2 = cm2[0][1] / (cm2[0][0] + cm2[0][1])\n",
    "tp2 = cm2[1][1] / (cm2[1][0] + cm2[1][1])\n",
    "\n",
    "plt.figure()\n",
    "plt.plot(fpr, tpr)\n",
    "plt.plot(fpr2, tpr2)\n",
    "plt.plot(fp, tp, \"or\")  # 1b\n",
    "plt.plot(fp2, tp2, \"ob\")  # 1d\n"
   ]
  },
  {
   "cell_type": "markdown",
   "metadata": {},
   "source": [
    "<hr style=\"border:2px solid black\"> </hr>"
   ]
  },
  {
   "cell_type": "markdown",
   "metadata": {},
   "source": [
    "# Question 2 - Multi-Class Classification:\n",
    "## Consider the original train and test datasets form the $\\texttt{MNISTsmall.p}$ (10 classes).\n",
    "### a) Pre-process the data using the function  $\\texttt{PCA}$. Train this function with the training data and apply the transformation to the training and test sets. Preseve only the first 50 principal componentes of the data. Use the pre-processed data in the following items.\n",
    "### b) Train with the training set a $\\texttt{RandomForestClassifier}$ with the following parameters: $\\texttt{random_state=42}$ and $\\texttt{max_depth=10}$. Print the total number of errors and the confusion matrix for the test data.\n",
    "### c)  Divide the training set in two: a training and a validation set. Use the function $\\texttt{train_test_split}$ with the following parameters: $\\texttt{train_size=7000}$, $\\texttt{random_state=42}$ and $\\texttt{stratify=y1}$\n",
    "### d) Use the training set of the previous item to train the $\\texttt{RandomForestClassifier}$ (with $\\texttt{random_state=42}$ and $\\texttt{max_depth=10}$) and check which value for the parameter $\\texttt{n_estimators}$ gives the best score in the validation set. Test the following values for the parameter $\\texttt{n_estimators}$: 200, 225, 250, 275 and 300.\n",
    "### e) Re-train with the whole training set (10000 examples) the $\\texttt{RandomForestClassifier}$ (with $\\texttt{random_state=42}$ and $\\texttt{max_depth=10}$) with the best value obtained in the previous item for the parameter $\\texttt{n_estimators}$.  Print the total number of errors and the confusion matrix for the test data."
   ]
  },
  {
   "cell_type": "markdown",
   "metadata": {},
   "source": [
    "## 2.a)"
   ]
  },
  {
   "cell_type": "code",
   "execution_count": 234,
   "metadata": {},
   "outputs": [],
   "source": [
    "# load data\n",
    "D = pickle.load(open(\"MNISTsmall.p\", \"rb\"))\n",
    "X1 = D.X1 * 1.0\n",
    "X2 = D.X2 * 1.0\n",
    "y1 = D.y1\n",
    "y2 = D.y2\n",
    "\n",
    "pca = PCA(n_components=50).fit(X1)\n",
    "X1t = pca.transform(X1)\n",
    "X2t = pca.transform(X2)\n"
   ]
  },
  {
   "cell_type": "markdown",
   "metadata": {},
   "source": [
    "## 2.b)"
   ]
  },
  {
   "cell_type": "code",
   "execution_count": 235,
   "metadata": {},
   "outputs": [
    {
     "name": "stdout",
     "output_type": "stream",
     "text": [
      "Number of errors: 630\n",
      "[[479   0   3   0   0   1   9   2   4   2]\n",
      " [  0 485   1   7   0   2   3   0   2   0]\n",
      " [  2   1 421  16   4   0   7  10  37   2]\n",
      " [  2   0   3 439   0  23   4   8  18   3]\n",
      " [  1   2   5   2 432   4   9   1   4  40]\n",
      " [  8   1   1  22   9 427   6   9   8   9]\n",
      " [  7   2   5   1  10  18 453   0   4   0]\n",
      " [  0  15  22   8   3   3   0 420  12  17]\n",
      " [  6   0  14  28   7  16   4   5 398  22]\n",
      " [  4   7   2  14  33   6   1   8   9 416]]\n"
     ]
    }
   ],
   "source": [
    "rfc = RandomForestClassifier(random_state=42, max_depth=10).fit(X1t, y1)\n",
    "y2e = rfc.predict(X2t)\n",
    "\n",
    "print(\"Number of errors:\", np.sum(y2 != y2e))\n",
    "cm = confusion_matrix(y2, y2e)\n",
    "print(cm)\n"
   ]
  },
  {
   "cell_type": "markdown",
   "metadata": {},
   "source": [
    "## 2.c)"
   ]
  },
  {
   "cell_type": "code",
   "execution_count": 236,
   "metadata": {},
   "outputs": [],
   "source": [
    "X_train, X_test, y_train, y_test = train_test_split(\n",
    "    X1t, y1, train_size=7000, random_state=42, stratify=y1\n",
    ")\n"
   ]
  },
  {
   "cell_type": "markdown",
   "metadata": {},
   "source": [
    "## 2.d)"
   ]
  },
  {
   "cell_type": "code",
   "execution_count": 237,
   "metadata": {},
   "outputs": [],
   "source": [
    "n_estimators = [200, 225, 250, 275, 300]\n",
    "best_score = 0\n",
    "best_n = 0\n",
    "\n",
    "for n in n_estimators:\n",
    "    rfc2 = RandomForestClassifier(random_state=42, max_depth=10, n_estimators=n).fit(\n",
    "        X_train, y_train\n",
    "    )\n",
    "\n",
    "    score = rfc2.score(X_test, y_test)\n",
    "    if score > best_score:\n",
    "        best_score = score\n",
    "        best_n = n\n"
   ]
  },
  {
   "cell_type": "markdown",
   "metadata": {},
   "source": [
    "## 2.e)"
   ]
  },
  {
   "cell_type": "code",
   "execution_count": 238,
   "metadata": {},
   "outputs": [
    {
     "name": "stdout",
     "output_type": "stream",
     "text": [
      "Number of errors: 630\n",
      "[[479   0   3   0   0   1   9   2   4   2]\n",
      " [  0 485   1   7   0   2   3   0   2   0]\n",
      " [  2   1 421  16   4   0   7  10  37   2]\n",
      " [  2   0   3 439   0  23   4   8  18   3]\n",
      " [  1   2   5   2 432   4   9   1   4  40]\n",
      " [  8   1   1  22   9 427   6   9   8   9]\n",
      " [  7   2   5   1  10  18 453   0   4   0]\n",
      " [  0  15  22   8   3   3   0 420  12  17]\n",
      " [  6   0  14  28   7  16   4   5 398  22]\n",
      " [  4   7   2  14  33   6   1   8   9 416]]\n"
     ]
    }
   ],
   "source": [
    "rfc3 = RandomForestClassifier(random_state=42, max_depth=10, n_estimators=best_n).fit(\n",
    "    X1t, y1\n",
    ")\n",
    "y2e = rfc.predict(X2t)\n",
    "\n",
    "print(\"Number of errors:\", np.sum(y2 != y2e))\n",
    "cm2 = confusion_matrix(y2, y2e)\n",
    "print(cm2)\n"
   ]
  }
 ],
 "metadata": {
  "kernelspec": {
   "display_name": "Python 3",
   "language": "python",
   "name": "python3"
  },
  "language_info": {
   "codemirror_mode": {
    "name": "ipython",
    "version": 3
   },
   "file_extension": ".py",
   "mimetype": "text/x-python",
   "name": "python",
   "nbconvert_exporter": "python",
   "pygments_lexer": "ipython3",
   "version": "3.10.3"
  }
 },
 "nbformat": 4,
 "nbformat_minor": 4
}
