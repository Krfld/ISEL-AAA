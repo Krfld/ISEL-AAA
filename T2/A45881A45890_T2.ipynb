{
 "cells": [
  {
   "cell_type": "code",
   "execution_count": null,
   "metadata": {},
   "outputs": [
    {
     "ename": "",
     "evalue": "",
     "output_type": "error",
     "traceback": [
      "\u001b[1;31mFailed to start the Kernel. \n",
      "OSError: [WinError 4393] The tag present in the reparse point buffer is invalid: 'd:\\\\onedrive - instituto superior de engenharia de lisboa\\\\mestrado\\\\semestre 2\\\\avii\\\\ml agents\\\\venv\\\\lib\\\\site-packages\\\\tf_estimator_nightly-2.8.0.dev2021122109.dist-info'. \n",
      "View Jupyter <a href='command:jupyter.viewOutput'>log</a> for further details."
     ]
    }
   ],
   "source": [
    "import numpy as np\n",
    "import numpy.random as rd\n",
    "import matplotlib.pyplot as plt\n",
    "import pickle\t\n",
    "\n",
    "# load data\n",
    "D = pickle.load(open(\"xorData.p\", \"rb\"))\n",
    "# print(D)\n",
    "\n",
    "X = D.data\n",
    "y = D.target\n",
    "\n",
    "print(X.shape, y.shape)\n",
    "# print(X1[:,0])\n",
    "\n",
    "plt.figure()\n",
    "plt.plot(X[0, :], X[1, :], '.')\n",
    "# plt.plot(y1, y1, '.')\n",
    "plt.show()\n"
   ]
  },
  {
   "cell_type": "markdown",
   "metadata": {},
   "source": [
    "### Network training algorithm a)\n"
   ]
  },
  {
   "cell_type": "code",
   "execution_count": null,
   "metadata": {},
   "outputs": [
    {
     "ename": "",
     "evalue": "",
     "output_type": "error",
     "traceback": [
      "\u001b[1;31mFailed to start the Kernel. \n",
      "OSError: [WinError 4393] The tag present in the reparse point buffer is invalid: 'd:\\\\onedrive - instituto superior de engenharia de lisboa\\\\mestrado\\\\semestre 2\\\\avii\\\\ml agents\\\\venv\\\\lib\\\\site-packages\\\\tf_estimator_nightly-2.8.0.dev2021122109.dist-info'. \n",
      "View Jupyter <a href='command:jupyter.viewOutput'>log</a> for further details."
     ]
    }
   ],
   "source": [
    "def train(\n",
    "    X=X,\n",
    "    y=y,\n",
    "    hidden_units=10,\n",
    "    adaptation_step=1e-5,  # eta\n",
    "    moment_term=0.9,  # alpha\n",
    "    number_of_iterations=2000,  # iter\n",
    "    activation_function=np.tanh,\n",
    "):\n",
    "\n",
    "    # Each row for each input\n",
    "    # Each column for each hidden neuron\n",
    "    # Start the hidden layer weights with low random values\n",
    "    Wi = rd.randn(2, hidden_units) * .1\n",
    "    # print(Wi)\n",
    "\n",
    "    # Each row for each hidden neuron\n",
    "    b = np.zeros((hidden_units, 1))\n",
    "    # print(b)\n",
    "\n",
    "    # Each row for the output of each hidden neuron\n",
    "    # Start the output layer weights with low random values\n",
    "    Wo = rd.randn(hidden_units, 1) * .1\n",
    "    # print(Wo)\n",
    "\n",
    "    # Bias for the output layer\n",
    "    bo = 0\n",
    "\n",
    "    # Initialize the derivatives\n",
    "    dzWi = np.zeros(Wi.shape)\n",
    "    dzb = np.zeros(b.shape)\n",
    "    dzWo = np.zeros(Wo.shape)\n",
    "    dzbo = 0\n",
    "\n",
    "    Error = np.zeros(number_of_iterations)\n",
    "\n",
    "    for n in range(number_of_iterations):\n",
    "        # forward pass\n",
    "        u = np.dot(Wi.T, X) + b\n",
    "        v = activation_function(u)\n",
    "        z = np.dot(Wo.T, v) + bo\n",
    "        yh = activation_function(z)\n",
    "\n",
    "        # error\n",
    "        E = y-yh\n",
    "        Error[n] = np.mean(E**2)\n",
    "\n",
    "        # gradient\n",
    "        dz = -2*E*(1-yh**2)\n",
    "        dbo = np.sum(dz)\n",
    "        dWo = np.dot(v, dz.T)\n",
    "        du = (1-v**2)*np.dot(Wo, dz)\n",
    "        db = np.sum(du, axis=1)\n",
    "        dWi = np.dot(X, du.T)\n",
    "\n",
    "        # adapt\n",
    "        dzWi = moment_term * dzWi + dWi\n",
    "        dzb = moment_term * dzb + db[:, np.newaxis]\n",
    "        dzWo = moment_term * dzWo + dWo\n",
    "        dzbo = moment_term * dzbo + dbo\n",
    "\n",
    "        Wi = Wi - adaptation_step * dzWi\n",
    "        b = b - adaptation_step * dzb\n",
    "        Wo = Wo - adaptation_step * dzWo\n",
    "        bo = bo - adaptation_step * dzbo\n",
    "\n",
    "    plt.figure()\n",
    "    plt.plot(Error)\n",
    "    plt.grid(True)\n",
    "    plt.show()\n"
   ]
  },
  {
   "cell_type": "markdown",
   "metadata": {},
   "source": [
    "### Train network with 1 hidden unit b)\n"
   ]
  },
  {
   "cell_type": "code",
   "execution_count": null,
   "metadata": {},
   "outputs": [
    {
     "ename": "",
     "evalue": "",
     "output_type": "error",
     "traceback": [
      "\u001b[1;31mFailed to start the Kernel. \n",
      "OSError: [WinError 4393] The tag present in the reparse point buffer is invalid: 'd:\\\\onedrive - instituto superior de engenharia de lisboa\\\\mestrado\\\\semestre 2\\\\avii\\\\ml agents\\\\venv\\\\lib\\\\site-packages\\\\tf_estimator_nightly-2.8.0.dev2021122109.dist-info'. \n",
      "View Jupyter <a href='command:jupyter.viewOutput'>log</a> for further details."
     ]
    }
   ],
   "source": [
    "train(X, y,\n",
    "      hidden_units=1,\n",
    "      adaptation_step=1e-5,\n",
    "      moment_term=0.9,\n",
    "      number_of_iterations=2000)\n",
    "      \n"
   ]
  },
  {
   "cell_type": "markdown",
   "metadata": {},
   "source": [
    "### Train network with 10 hidden units c)\n"
   ]
  },
  {
   "cell_type": "code",
   "execution_count": null,
   "metadata": {},
   "outputs": [
    {
     "ename": "",
     "evalue": "",
     "output_type": "error",
     "traceback": [
      "\u001b[1;31mFailed to start the Kernel. \n",
      "OSError: [WinError 4393] The tag present in the reparse point buffer is invalid: 'd:\\\\onedrive - instituto superior de engenharia de lisboa\\\\mestrado\\\\semestre 2\\\\avii\\\\ml agents\\\\venv\\\\lib\\\\site-packages\\\\tf_estimator_nightly-2.8.0.dev2021122109.dist-info'. \n",
      "View Jupyter <a href='command:jupyter.viewOutput'>log</a> for further details."
     ]
    }
   ],
   "source": [
    "train(X, y, hidden_units=10)\n"
   ]
  },
  {
   "cell_type": "markdown",
   "metadata": {},
   "source": [
    "### Train network with 50 hidden units d)\n"
   ]
  },
  {
   "cell_type": "code",
   "execution_count": null,
   "metadata": {},
   "outputs": [
    {
     "ename": "",
     "evalue": "",
     "output_type": "error",
     "traceback": [
      "\u001b[1;31mFailed to start the Kernel. \n",
      "OSError: [WinError 4393] The tag present in the reparse point buffer is invalid: 'd:\\\\onedrive - instituto superior de engenharia de lisboa\\\\mestrado\\\\semestre 2\\\\avii\\\\ml agents\\\\venv\\\\lib\\\\site-packages\\\\tf_estimator_nightly-2.8.0.dev2021122109.dist-info'. \n",
      "View Jupyter <a href='command:jupyter.viewOutput'>log</a> for further details."
     ]
    }
   ],
   "source": [
    "train(X, y, hidden_units=50)\n"
   ]
  },
  {
   "cell_type": "code",
   "execution_count": null,
   "metadata": {},
   "outputs": [
    {
     "ename": "",
     "evalue": "",
     "output_type": "error",
     "traceback": [
      "\u001b[1;31mFailed to start the Kernel. \n",
      "OSError: [WinError 4393] The tag present in the reparse point buffer is invalid: 'd:\\\\onedrive - instituto superior de engenharia de lisboa\\\\mestrado\\\\semestre 2\\\\avii\\\\ml agents\\\\venv\\\\lib\\\\site-packages\\\\tf_estimator_nightly-2.8.0.dev2021122109.dist-info'. \n",
      "View Jupyter <a href='command:jupyter.viewOutput'>log</a> for further details."
     ]
    }
   ],
   "source": [
    "plt.figure(figsize=(10, 5))\n",
    "plt.plot(yh.squeeze(), '.')\n",
    "plt.grid(True)\n"
   ]
  },
  {
   "cell_type": "code",
   "execution_count": null,
   "metadata": {},
   "outputs": [
    {
     "ename": "",
     "evalue": "",
     "output_type": "error",
     "traceback": [
      "\u001b[1;31mFailed to start the Kernel. \n",
      "OSError: [WinError 4393] The tag present in the reparse point buffer is invalid: 'd:\\\\onedrive - instituto superior de engenharia de lisboa\\\\mestrado\\\\semestre 2\\\\avii\\\\ml agents\\\\venv\\\\lib\\\\site-packages\\\\tf_estimator_nightly-2.8.0.dev2021122109.dist-info'. \n",
      "View Jupyter <a href='command:jupyter.viewOutput'>log</a> for further details."
     ]
    }
   ],
   "source": [
    "plt.figure(figsize=(6, 6))\n",
    "ye = (yh.squeeze() >= 0)*2-1\n",
    "plt.plot(X[0, y == -1], X[1, y == -1], '.b')\n",
    "plt.plot(X[0, y == 1], X[1, y == 1], '.r')\n",
    "plt.plot(X[0, y != ye], X[1, y != ye], 'ok', alpha=.7)\n",
    "print('Nº de erros:', np.sum(y != ye))\n"
   ]
  },
  {
   "cell_type": "code",
   "execution_count": null,
   "metadata": {},
   "outputs": [
    {
     "ename": "",
     "evalue": "",
     "output_type": "error",
     "traceback": [
      "\u001b[1;31mFailed to start the Kernel. \n",
      "OSError: [WinError 4393] The tag present in the reparse point buffer is invalid: 'd:\\\\onedrive - instituto superior de engenharia de lisboa\\\\mestrado\\\\semestre 2\\\\avii\\\\ml agents\\\\venv\\\\lib\\\\site-packages\\\\tf_estimator_nightly-2.8.0.dev2021122109.dist-info'. \n",
      "View Jupyter <a href='command:jupyter.viewOutput'>log</a> for further details."
     ]
    }
   ],
   "source": [
    "from mpl_toolkits import mplot3d\n",
    "gX, gY = np.meshgrid(np.linspace(-1, 2, 50), np.linspace(-1, 2, 50))\n",
    "X2 = np.vstack((gX.ravel(), gY.ravel()))\n",
    "u = np.dot(Wi.T, X2)+b\n",
    "v = np.tanh(u)\n",
    "z = np.dot(Wo.T, v)\n",
    "yh = np.tanh(z+bo)\n",
    "Yh = np.reshape(yh, (50, 50))\n",
    "\n",
    "fig = plt.figure(figsize=(7, 7))\n",
    "ax = plt.axes(projection='3d')\n",
    "# ax.contour3D(gX,gY,Yh,50,cmap='binary')\n",
    "ax.plot_wireframe(gX, gY, Yh)\n"
   ]
  }
 ],
 "metadata": {
  "interpreter": {
   "hash": "3b5be1fd1de7b40782a9e00e64e3cbb4863fd6c2414af64edfcd9ccb8133f2c5"
  },
  "kernelspec": {
   "display_name": "Python 3.7.9 ('venv')",
   "language": "python",
   "name": "python3"
  },
  "language_info": {
   "codemirror_mode": {
    "name": "ipython",
    "version": 3
   },
   "file_extension": ".py",
   "mimetype": "text/x-python",
   "name": "python",
   "nbconvert_exporter": "python",
   "pygments_lexer": "ipython3",
   "version": "3.7.9"
  }
 },
 "nbformat": 4,
 "nbformat_minor": 4
}
