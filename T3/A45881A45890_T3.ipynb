{
 "cells": [
  {
   "cell_type": "code",
   "execution_count": null,
   "metadata": {},
   "outputs": [],
   "source": [
    "import numpy as np\n",
    "import pickle\n",
    "import matplotlib.pyplot as plt\n",
    "import tensorflow as tf\n",
    "import tensorflow.keras as keras\n",
    "from tensorflow.keras import models\n",
    "from tensorflow.keras import layers\n",
    "\n",
    "def log(msg):\n",
    "\tprint(msg, '\\n')\n",
    "\n",
    "D = pickle.load(open('Oxford-IIIT-Pet_Dics.p', 'rb'))\n",
    "\n",
    "keys = D.keys()\n",
    "log(keys)\n",
    "\n",
    "classDic = D.get('classDic')\n",
    "log(classDic)\n",
    "\n",
    "filesDic = D.get('filesDic')\n",
    "log(filesDic.values())\n",
    "\n",
    "# log(D)\n"
   ]
  },
  {
   "cell_type": "code",
   "execution_count": null,
   "metadata": {},
   "outputs": [],
   "source": [
    "cnn = models.Sequential()\n",
    "\n",
    "cnn.add(layers.Conv2D(16, (5, 5), activation='relu',\n",
    "                      input_shape=(28, 28, 1), padding=\"same\"))\n",
    "cnn.add(layers.Conv2D(16, (5, 5), activation='relu'))\n",
    "cnn.add(layers.AveragePooling2D((2, 2)))\n",
    "cnn.add(layers.Conv2D(64, (5, 5), activation='relu'))\n",
    "cnn.add(layers.Conv2D(64, (5, 5), activation='relu'))\n",
    "cnn.add(layers.AveragePooling2D((2, 2)))\n",
    "cnn.add(layers.Conv2D(128, (1, 1), activation='relu'))\n",
    "cnn.add(layers.Conv2D(128, (1, 1), activation='relu'))\n",
    "cnn.add(layers.AveragePooling2D((2, 2)))\n",
    "cnn.add(layers.Flatten())\n",
    "cnn.add(layers.Dense(96, activation='relu'))\n",
    "cnn.add(layers.Dense(10, activation='softmax'))\n",
    "\n",
    "cnn.summary()\n",
    "\n",
    "cnn.compile(optimizer=\"nadam\",\n",
    "            loss=\"categorical_crossentropy\",\n",
    "            metrics=[\"accuracy\"])\n"
   ]
  }
 ],
 "metadata": {
  "kernelspec": {
   "display_name": "Python 3.7.9 ('venv')",
   "language": "python",
   "name": "python3"
  },
  "language_info": {
   "name": "python",
   "version": "3.7.9"
  },
  "orig_nbformat": 4,
  "vscode": {
   "interpreter": {
    "hash": "3b5be1fd1de7b40782a9e00e64e3cbb4863fd6c2414af64edfcd9ccb8133f2c5"
   }
  }
 },
 "nbformat": 4,
 "nbformat_minor": 2
}
