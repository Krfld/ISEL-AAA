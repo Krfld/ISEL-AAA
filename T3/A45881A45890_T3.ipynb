{
 "cells": [
  {
   "cell_type": "code",
   "execution_count": 15,
   "metadata": {},
   "outputs": [
    {
     "name": "stdout",
     "output_type": "stream",
     "text": [
      "['classDic', 'filesDic'] \n",
      "\n",
      "{'american_bulldog': 0, 'american_pit_bull_terrier': 1, 'basset_hound': 2, 'beagle': 3, 'boxer': 4, 'chihuahua': 5, 'english_cocker_spaniel': 6, 'english_setter': 7, 'german_shorthaired': 8, 'great_pyrenees': 9, 'havanese': 10, 'japanese_chin': 11, 'keeshond': 12, 'leonberger': 13, 'miniature_pinscher': 14, 'newfoundland': 15, 'pomeranian': 16, 'pug': 17, 'saint_bernard': 18, 'samoyed': 19, 'scottish_terrier': 20, 'shiba_inu': 21, 'staffordshire_bull_terrier': 22, 'wheaten_terrier': 23, 'yorkshire_terrier': 24, 'Abyssinian': 25, 'Bengal': 26, 'Birman': 27, 'Bombay': 28, 'British_Shorthair': 29, 'Egyptian_Mau': 30, 'Maine_Coon': 31, 'Persian': 32, 'Ragdoll': 33, 'Russian_Blue': 34, 'Siamese': 35, 'Sphynx': 36} \n",
      "\n",
      "{'species': 'cat', 'breed': 'Abyssinian', 'target': 25, 'imgDim': (400, 600, 3), 'bndBox': [333, 72, 92, 86], 'foldTrain': True} \n",
      "\n"
     ]
    }
   ],
   "source": [
    "import numpy as np\n",
    "import matplotlib.pyplot as plt\n",
    "import tensorflow as tf\n",
    "import tensorflow.keras as keras\n",
    "from tensorflow.keras import models\n",
    "from tensorflow.keras import layers\n",
    "import pickle\n",
    "\n",
    "\n",
    "def log(msg):\n",
    "    print(msg, '\\n')\n",
    "\n",
    "\n",
    "D = dict(pickle.load(open('Oxford-IIIT-Pet_Dics.p', 'rb')))\n",
    "imageNum = 7390\n",
    "\n",
    "DKeys = list(D.keys())\n",
    "log(DKeys)\n",
    "\n",
    "classDic = dict(D.get('classDic'))\n",
    "log(classDic)\n",
    "\n",
    "filesDic = dict(D.get('filesDic'))\n",
    "filesDicValues = list(filesDic.values())\n",
    "log(filesDicValues[0])\n",
    "\n",
    "# log(D)\n"
   ]
  },
  {
   "cell_type": "code",
   "execution_count": null,
   "metadata": {},
   "outputs": [],
   "source": [
    "cnn = models.Sequential()\n",
    "\n",
    "cnn.add(layers.Conv2D(16, (5, 5), activation='relu',\n",
    "                      input_shape=(28, 28, 1), padding=\"same\"))\n",
    "cnn.add(layers.Conv2D(16, (5, 5), activation='relu'))\n",
    "cnn.add(layers.AveragePooling2D((2, 2)))\n",
    "cnn.add(layers.Conv2D(64, (5, 5), activation='relu'))\n",
    "cnn.add(layers.Conv2D(64, (5, 5), activation='relu'))\n",
    "cnn.add(layers.AveragePooling2D((2, 2)))\n",
    "cnn.add(layers.Conv2D(128, (1, 1), activation='relu'))\n",
    "cnn.add(layers.Conv2D(128, (1, 1), activation='relu'))\n",
    "cnn.add(layers.AveragePooling2D((2, 2)))\n",
    "cnn.add(layers.Flatten())\n",
    "cnn.add(layers.Dense(96, activation='relu'))\n",
    "cnn.add(layers.Dense(10, activation='softmax'))\n",
    "\n",
    "cnn.summary()\n",
    "\n",
    "cnn.compile(optimizer=\"nadam\",\n",
    "            loss=\"categorical_crossentropy\",\n",
    "            metrics=[\"accuracy\"])\n"
   ]
  }
 ],
 "metadata": {
  "kernelspec": {
   "display_name": "Python 3.7.9 ('venv')",
   "language": "python",
   "name": "python3"
  },
  "language_info": {
   "codemirror_mode": {
    "name": "ipython",
    "version": 3
   },
   "file_extension": ".py",
   "mimetype": "text/x-python",
   "name": "python",
   "nbconvert_exporter": "python",
   "pygments_lexer": "ipython3",
   "version": "3.7.9"
  },
  "orig_nbformat": 4,
  "vscode": {
   "interpreter": {
    "hash": "3b5be1fd1de7b40782a9e00e64e3cbb4863fd6c2414af64edfcd9ccb8133f2c5"
   }
  }
 },
 "nbformat": 4,
 "nbformat_minor": 2
}
